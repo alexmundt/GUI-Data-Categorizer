{
 "cells": [
  {
   "cell_type": "code",
   "execution_count": 1,
   "id": "1eb6fc6c-167a-4551-bf03-a696e53558d2",
   "metadata": {},
   "outputs": [],
   "source": [
    "import pandas as pd\n",
    "import matplotlib.pyplot as plt\n",
    "import numpy as np"
   ]
  },
  {
   "cell_type": "markdown",
   "id": "3c7980bd-b36d-40c3-96bc-adf837720fed",
   "metadata": {},
   "source": [
    "## Load the file\n",
    "The merged data file is \"merged_base_frame\". The merging means the frame was inner joined at event_id for max displacement values as well as the base database values, so that maximum displacement values are attached at the event id to other earthquake properties.\n"
   ]
  },
  {
   "cell_type": "code",
   "execution_count": 3,
   "id": "28bf4ade-fc34-4e77-ad41-58433889293c",
   "metadata": {},
   "outputs": [],
   "source": [
    "filename = \"merged_base_frame\""
   ]
  },
  {
   "cell_type": "code",
   "execution_count": 4,
   "id": "3a8ad436-3d5f-4cad-9f7d-d61026809159",
   "metadata": {},
   "outputs": [],
   "source": [
    "df = pd.read_pickle(filename)"
   ]
  },
  {
   "cell_type": "code",
   "execution_count": 5,
   "id": "c959e9aa-7c46-4344-b337-2103327bb7da",
   "metadata": {},
   "outputs": [
    {
     "data": {
      "text/html": [
       "<div>\n",
       "<style scoped>\n",
       "    .dataframe tbody tr th:only-of-type {\n",
       "        vertical-align: middle;\n",
       "    }\n",
       "\n",
       "    .dataframe tbody tr th {\n",
       "        vertical-align: top;\n",
       "    }\n",
       "\n",
       "    .dataframe thead th {\n",
       "        text-align: right;\n",
       "    }\n",
       "</style>\n",
       "<table border=\"1\" class=\"dataframe\">\n",
       "  <thead>\n",
       "    <tr style=\"text-align: right;\">\n",
       "      <th></th>\n",
       "      <th>event_id</th>\n",
       "      <th>quality</th>\n",
       "      <th>max_disp</th>\n",
       "      <th>longitude</th>\n",
       "      <th>latitude</th>\n",
       "      <th>depth</th>\n",
       "      <th>time</th>\n",
       "      <th>mag</th>\n",
       "      <th>mag_type</th>\n",
       "      <th>m_rr</th>\n",
       "      <th>...</th>\n",
       "      <th>m_tp</th>\n",
       "      <th>source_time_duration</th>\n",
       "      <th>source_time_function</th>\n",
       "      <th>gcmt_id</th>\n",
       "      <th>m_rr_norm</th>\n",
       "      <th>m_tt_norm</th>\n",
       "      <th>m_pp_norm</th>\n",
       "      <th>m_rt_norm</th>\n",
       "      <th>m_rp_norm</th>\n",
       "      <th>m_tp_norm</th>\n",
       "    </tr>\n",
       "  </thead>\n",
       "  <tbody>\n",
       "    <tr>\n",
       "      <th>0</th>\n",
       "      <td>FGhXLK9X</td>\n",
       "      <td>2</td>\n",
       "      <td>3.652426e-06</td>\n",
       "      <td>-68.34</td>\n",
       "      <td>-21.62</td>\n",
       "      <td>141600.0</td>\n",
       "      <td>2020-01-14T01:57:32.800000Z</td>\n",
       "      <td>5.14</td>\n",
       "      <td>Mwc</td>\n",
       "      <td>-5.800000e+16</td>\n",
       "      <td>...</td>\n",
       "      <td>-3.670000e+16</td>\n",
       "      <td>1.8</td>\n",
       "      <td>triangle</td>\n",
       "      <td>C202001140157A</td>\n",
       "      <td>-1.000000</td>\n",
       "      <td>0.196552</td>\n",
       "      <td>0.803448</td>\n",
       "      <td>0.048448</td>\n",
       "      <td>-0.091034</td>\n",
       "      <td>-0.632759</td>\n",
       "    </tr>\n",
       "    <tr>\n",
       "      <th>1</th>\n",
       "      <td>ctpqppXn</td>\n",
       "      <td>4</td>\n",
       "      <td>9.426302e-07</td>\n",
       "      <td>-69.26</td>\n",
       "      <td>-19.61</td>\n",
       "      <td>123400.0</td>\n",
       "      <td>2020-08-03T11:56:54.100000Z</td>\n",
       "      <td>5.49</td>\n",
       "      <td>Mwc</td>\n",
       "      <td>-1.710000e+17</td>\n",
       "      <td>...</td>\n",
       "      <td>-1.720000e+16</td>\n",
       "      <td>2.8</td>\n",
       "      <td>triangle</td>\n",
       "      <td>C202008031156A</td>\n",
       "      <td>-0.909574</td>\n",
       "      <td>-0.092021</td>\n",
       "      <td>1.000000</td>\n",
       "      <td>0.109574</td>\n",
       "      <td>-0.590426</td>\n",
       "      <td>-0.091489</td>\n",
       "    </tr>\n",
       "    <tr>\n",
       "      <th>2</th>\n",
       "      <td>jfVYQZvW</td>\n",
       "      <td>4</td>\n",
       "      <td>6.177159e-07</td>\n",
       "      <td>-66.90</td>\n",
       "      <td>-24.20</td>\n",
       "      <td>218100.0</td>\n",
       "      <td>2007-04-18T01:08:15.600000Z</td>\n",
       "      <td>5.60</td>\n",
       "      <td>Mwc</td>\n",
       "      <td>-1.590000e+17</td>\n",
       "      <td>...</td>\n",
       "      <td>1.180000e+17</td>\n",
       "      <td>3.0</td>\n",
       "      <td>triangle</td>\n",
       "      <td>C200704180108A</td>\n",
       "      <td>-0.673729</td>\n",
       "      <td>-0.326695</td>\n",
       "      <td>1.000000</td>\n",
       "      <td>0.436441</td>\n",
       "      <td>-0.745763</td>\n",
       "      <td>0.500000</td>\n",
       "    </tr>\n",
       "    <tr>\n",
       "      <th>3</th>\n",
       "      <td>k5vKMzO1</td>\n",
       "      <td>5</td>\n",
       "      <td>3.011066e-06</td>\n",
       "      <td>-71.25</td>\n",
       "      <td>-19.84</td>\n",
       "      <td>33000.0</td>\n",
       "      <td>2014-03-24T11:32:19.900000Z</td>\n",
       "      <td>5.35</td>\n",
       "      <td>Mwc</td>\n",
       "      <td>1.090000e+17</td>\n",
       "      <td>...</td>\n",
       "      <td>1.640000e+16</td>\n",
       "      <td>2.4</td>\n",
       "      <td>triangle</td>\n",
       "      <td>C201403241132A</td>\n",
       "      <td>1.000000</td>\n",
       "      <td>-0.077982</td>\n",
       "      <td>-0.917431</td>\n",
       "      <td>0.155963</td>\n",
       "      <td>-0.744954</td>\n",
       "      <td>0.150459</td>\n",
       "    </tr>\n",
       "    <tr>\n",
       "      <th>4</th>\n",
       "      <td>m3eeDnSK</td>\n",
       "      <td>3</td>\n",
       "      <td>3.412404e-07</td>\n",
       "      <td>-70.71</td>\n",
       "      <td>-20.78</td>\n",
       "      <td>37900.0</td>\n",
       "      <td>2014-09-04T09:26:56.900000Z</td>\n",
       "      <td>5.01</td>\n",
       "      <td>Mwc</td>\n",
       "      <td>3.530000e+16</td>\n",
       "      <td>...</td>\n",
       "      <td>7.800000e+15</td>\n",
       "      <td>1.6</td>\n",
       "      <td>triangle</td>\n",
       "      <td>C201409040926A</td>\n",
       "      <td>0.980556</td>\n",
       "      <td>0.019722</td>\n",
       "      <td>-1.000000</td>\n",
       "      <td>0.257778</td>\n",
       "      <td>-0.511111</td>\n",
       "      <td>0.216667</td>\n",
       "    </tr>\n",
       "  </tbody>\n",
       "</table>\n",
       "<p>5 rows × 24 columns</p>\n",
       "</div>"
      ],
      "text/plain": [
       "   event_id  quality      max_disp  longitude  latitude     depth  \\\n",
       "0  FGhXLK9X        2  3.652426e-06     -68.34    -21.62  141600.0   \n",
       "1  ctpqppXn        4  9.426302e-07     -69.26    -19.61  123400.0   \n",
       "2  jfVYQZvW        4  6.177159e-07     -66.90    -24.20  218100.0   \n",
       "3  k5vKMzO1        5  3.011066e-06     -71.25    -19.84   33000.0   \n",
       "4  m3eeDnSK        3  3.412404e-07     -70.71    -20.78   37900.0   \n",
       "\n",
       "                          time   mag mag_type          m_rr  ...  \\\n",
       "0  2020-01-14T01:57:32.800000Z  5.14      Mwc -5.800000e+16  ...   \n",
       "1  2020-08-03T11:56:54.100000Z  5.49      Mwc -1.710000e+17  ...   \n",
       "2  2007-04-18T01:08:15.600000Z  5.60      Mwc -1.590000e+17  ...   \n",
       "3  2014-03-24T11:32:19.900000Z  5.35      Mwc  1.090000e+17  ...   \n",
       "4  2014-09-04T09:26:56.900000Z  5.01      Mwc  3.530000e+16  ...   \n",
       "\n",
       "           m_tp  source_time_duration  source_time_function         gcmt_id  \\\n",
       "0 -3.670000e+16                   1.8              triangle  C202001140157A   \n",
       "1 -1.720000e+16                   2.8              triangle  C202008031156A   \n",
       "2  1.180000e+17                   3.0              triangle  C200704180108A   \n",
       "3  1.640000e+16                   2.4              triangle  C201403241132A   \n",
       "4  7.800000e+15                   1.6              triangle  C201409040926A   \n",
       "\n",
       "   m_rr_norm  m_tt_norm m_pp_norm m_rt_norm  m_rp_norm  m_tp_norm  \n",
       "0  -1.000000   0.196552  0.803448  0.048448  -0.091034  -0.632759  \n",
       "1  -0.909574  -0.092021  1.000000  0.109574  -0.590426  -0.091489  \n",
       "2  -0.673729  -0.326695  1.000000  0.436441  -0.745763   0.500000  \n",
       "3   1.000000  -0.077982 -0.917431  0.155963  -0.744954   0.150459  \n",
       "4   0.980556   0.019722 -1.000000  0.257778  -0.511111   0.216667  \n",
       "\n",
       "[5 rows x 24 columns]"
      ]
     },
     "execution_count": 5,
     "metadata": {},
     "output_type": "execute_result"
    }
   ],
   "source": [
    "df.head()"
   ]
  },
  {
   "cell_type": "code",
   "execution_count": 2,
   "id": "763f5b6a-760a-44ef-bccc-c496f93ebc94",
   "metadata": {},
   "outputs": [],
   "source": [
    "#working_df = df[\"event_id\", \"quality\"]"
   ]
  },
  {
   "cell_type": "markdown",
   "id": "fbbe67ff-b939-4a37-b671-969e2a4740c1",
   "metadata": {},
   "source": [
    "## Plot the values\n",
    "First define a cutoff value for deep and shallow earthquakes."
   ]
  },
  {
   "cell_type": "code",
   "execution_count": 6,
   "id": "7883a7a2-749a-4c76-ac8e-cc0ee5a7efe5",
   "metadata": {},
   "outputs": [],
   "source": [
    "cutoff_depth = 75 * 1000"
   ]
  },
  {
   "cell_type": "code",
   "execution_count": 7,
   "id": "24aac7ad-12db-4757-8d5f-9cd079e7deee",
   "metadata": {},
   "outputs": [],
   "source": [
    "df_shallow = df.query(f\"depth < {cutoff_depth}\")\n",
    "df_deep = df.query(f\"depth >= {cutoff_depth}\")"
   ]
  },
  {
   "cell_type": "code",
   "execution_count": 8,
   "id": "3d6e5381-1e1c-40df-83ee-a69ab13f052c",
   "metadata": {
    "tags": []
   },
   "outputs": [],
   "source": [
    "x = df_shallow[\"mag\"]\n",
    "y = df_shallow[\"max_disp\"]\n",
    "x2 = df_deep[\"mag\"]\n",
    "y2 = df_deep[\"max_disp\"]"
   ]
  },
  {
   "cell_type": "code",
   "execution_count": 18,
   "id": "23f2978f-b621-4884-babe-3fa5dbb7325e",
   "metadata": {},
   "outputs": [
    {
     "data": {
      "image/png": "[encoded data removed]",
      "text/plain": [
       "<Figure size 864x576 with 1 Axes>"
      ]
     },
     "metadata": {
      "needs_background": "light"
     },
     "output_type": "display_data"
    }
   ],
   "source": [
    "plt.figure(figsize=(12,8))\n",
    "\n",
    "plt.scatter(x,np.log(y), label=\"shallow\")\n",
    "plt.scatter(x2,np.log(y2), label=\"deep\")\n",
    "plt.legend()\n",
    "plt.show()"
   ]
  },
  {
   "cell_type": "markdown",
   "id": "b857e8f1-b543-4f81-8f61-a98add6cdb4f",
   "metadata": {},
   "source": [
    "## Select only high quality events\n",
    "High quality events are quality above 3."
   ]
  },
  {
   "cell_type": "code",
   "execution_count": 10,
   "id": "95edaf4c-952b-484f-90c4-42ee2c108eef",
   "metadata": {},
   "outputs": [],
   "source": [
    "high_quality_df = df[df[\"quality\"] >= 3]"
   ]
  },
  {
   "cell_type": "code",
   "execution_count": 19,
   "id": "7e659549-182a-4ac8-9354-44c010170322",
   "metadata": {},
   "outputs": [],
   "source": [
    "def plot_shallow_and_deep_events(dataframe):\n",
    "    df_shallow = dataframe.query(f\"depth < {cutoff_depth}\")\n",
    "    df_deep = dataframe.query(f\"depth >= {cutoff_depth}\")\n",
    "    x = df_shallow[\"mag\"]\n",
    "    y = df_shallow[\"max_disp\"]\n",
    "    x2 = df_deep[\"mag\"]\n",
    "    y2 = df_deep[\"max_disp\"]\n",
    "    \n",
    "    plt.figure(figsize=(12,8))\n",
    "\n",
    "    plt.scatter(x,np.log(y), label=\"shallow\")\n",
    "    plt.scatter(x2,np.log(y2), label=\"deep\")\n",
    "    plt.legend()"
   ]
  },
  {
   "cell_type": "code",
   "execution_count": 21,
   "id": "7f96c30b-8a11-4c26-b616-04103ac7e7f3",
   "metadata": {},
   "outputs": [
    {
     "data": {
      "image/png": "[encoded data removed]",
      "text/plain": [
       "<Figure size 864x576 with 1 Axes>"
      ]
     },
     "metadata": {
      "needs_background": "light"
     },
     "output_type": "display_data"
    }
   ],
   "source": [
    "plot_shallow_and_deep_events(high_quality_df)"
   ]
  },
  {
   "cell_type": "code",
   "execution_count": null,
   "id": "b7bd876a-86a3-4b8c-93c9-ce7bbb097568",
   "metadata": {},
   "outputs": [],
   "source": []
  }
 ],
 "metadata": {
  "kernelspec": {
   "display_name": "Python 3 (ipykernel)",
   "language": "python",
   "name": "python3"
  },
  "language_info": {
   "codemirror_mode": {
    "name": "ipython",
    "version": 3
   },
   "file_extension": ".py",
   "mimetype": "text/x-python",
   "name": "python",
   "nbconvert_exporter": "python",
   "pygments_lexer": "ipython3",
   "version": "3.10.4"
  }
 },
 "nbformat": 4,
 "nbformat_minor": 5
}
