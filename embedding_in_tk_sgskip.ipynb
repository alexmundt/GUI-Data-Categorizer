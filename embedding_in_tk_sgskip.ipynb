{
 "cells": [
  {
   "cell_type": "code",
   "execution_count": 1,
   "metadata": {
    "collapsed": false,
    "jupyter": {
     "outputs_hidden": false
    }
   },
   "outputs": [],
   "source": [
    "%matplotlib inline"
   ]
  },
  {
   "cell_type": "markdown",
   "metadata": {},
   "source": [
    "\n",
    "# Embedding in Tk\n",
    "\n"
   ]
  },
  {
   "cell_type": "code",
   "execution_count": null,
   "metadata": {
    "collapsed": false,
    "jupyter": {
     "outputs_hidden": false
    }
   },
   "outputs": [
    {
     "name": "stdout",
     "output_type": "stream",
     "text": [
      "you pressed h\n",
      "you pressed h\n",
      "you pressed g\n",
      "you pressed f\n",
      "you pressed f\n",
      "you pressed r\n",
      "you pressed t\n",
      "you pressed z\n",
      "you pressed v\n",
      "you pressed b\n",
      "you pressed g\n",
      "you pressed h\n",
      "you pressed j\n",
      "you pressed g\n",
      "you pressed f\n",
      "you pressed c\n",
      "you pressed c\n",
      "you pressed c\n",
      "you pressed c\n",
      "you pressed right\n",
      "you pressed right\n",
      "you pressed left\n",
      "you pressed left\n",
      "you pressed right\n",
      "you pressed left\n",
      "you pressed left\n",
      "you pressed right\n",
      "you pressed right\n",
      "you pressed right\n",
      "you pressed right\n",
      "you pressed left\n",
      "you pressed left\n",
      "you pressed right\n",
      "you pressed left\n",
      "you pressed left\n",
      "you pressed right\n",
      "you pressed right\n",
      "you pressed left\n",
      "you pressed left\n",
      "you pressed left\n",
      "you pressed right\n",
      "you pressed right\n",
      "you pressed right\n",
      "you pressed left\n",
      "you pressed left\n"
     ]
    },
    {
     "name": "stderr",
     "output_type": "stream",
     "text": [
      "Exception in Tkinter callback\n",
      "Traceback (most recent call last):\n",
      "  File \"/home/alex/Daten2TB/Anaconda2021-11/lib/python3.9/tkinter/__init__.py\", line 1892, in __call__\n",
      "    return self.func(*args)\n",
      "  File \"/home/alex/Daten2TB/Anaconda2021-11/lib/python3.9/site-packages/matplotlib/backend_bases.py\", line 3310, in configure_subplots\n",
      "    self.subplot_tool = plt.subplot_tool(self.canvas.figure)\n",
      "  File \"/home/alex/Daten2TB/Anaconda2021-11/lib/python3.9/site-packages/matplotlib/pyplot.py\", line 1639, in subplot_tool\n",
      "    manager.show()\n",
      "  File \"/home/alex/Daten2TB/Anaconda2021-11/lib/python3.9/site-packages/matplotlib/backend_bases.py\", line 2781, in show\n",
      "    raise NonGuiException(\n",
      "matplotlib.backend_bases.NonGuiException: Matplotlib is currently using module://matplotlib_inline.backend_inline, which is a non-GUI backend, so cannot show the figure.\n",
      "Exception in Tkinter callback\n",
      "Traceback (most recent call last):\n",
      "  File \"/home/alex/Daten2TB/Anaconda2021-11/lib/python3.9/tkinter/__init__.py\", line 1892, in __call__\n",
      "    return self.func(*args)\n",
      "  File \"/home/alex/Daten2TB/Anaconda2021-11/lib/python3.9/site-packages/matplotlib/backend_bases.py\", line 3310, in configure_subplots\n",
      "    self.subplot_tool = plt.subplot_tool(self.canvas.figure)\n",
      "  File \"/home/alex/Daten2TB/Anaconda2021-11/lib/python3.9/site-packages/matplotlib/pyplot.py\", line 1639, in subplot_tool\n",
      "    manager.show()\n",
      "  File \"/home/alex/Daten2TB/Anaconda2021-11/lib/python3.9/site-packages/matplotlib/backend_bases.py\", line 2781, in show\n",
      "    raise NonGuiException(\n",
      "matplotlib.backend_bases.NonGuiException: Matplotlib is currently using module://matplotlib_inline.backend_inline, which is a non-GUI backend, so cannot show the figure.\n",
      "Exception in Tkinter callback\n",
      "Traceback (most recent call last):\n",
      "  File \"/home/alex/Daten2TB/Anaconda2021-11/lib/python3.9/tkinter/__init__.py\", line 1892, in __call__\n",
      "    return self.func(*args)\n",
      "  File \"/home/alex/Daten2TB/Anaconda2021-11/lib/python3.9/site-packages/matplotlib/backend_bases.py\", line 3310, in configure_subplots\n",
      "    self.subplot_tool = plt.subplot_tool(self.canvas.figure)\n",
      "  File \"/home/alex/Daten2TB/Anaconda2021-11/lib/python3.9/site-packages/matplotlib/pyplot.py\", line 1639, in subplot_tool\n",
      "    manager.show()\n",
      "  File \"/home/alex/Daten2TB/Anaconda2021-11/lib/python3.9/site-packages/matplotlib/backend_bases.py\", line 2781, in show\n",
      "    raise NonGuiException(\n",
      "matplotlib.backend_bases.NonGuiException: Matplotlib is currently using module://matplotlib_inline.backend_inline, which is a non-GUI backend, so cannot show the figure.\n"
     ]
    }
   ],
   "source": [
    "import tkinter\n",
    "\n",
    "from matplotlib.backends.backend_tkagg import (\n",
    "    FigureCanvasTkAgg, NavigationToolbar2Tk)\n",
    "# Implement the default Matplotlib key bindings.\n",
    "from matplotlib.backend_bases import key_press_handler\n",
    "from matplotlib.figure import Figure\n",
    "\n",
    "import numpy as np\n",
    "\n",
    "\n",
    "root = tkinter.Tk()\n",
    "root.wm_title(\"Embedding in Tk\")\n",
    "\n",
    "fig = Figure(figsize=(5, 4), dpi=100)\n",
    "t = np.arange(0, 3, .01)\n",
    "fig.add_subplot(111).plot(t, 2 * np.sin(2 * np.pi * t))\n",
    "\n",
    "canvas = FigureCanvasTkAgg(fig, master=root)  # A tk.DrawingArea.\n",
    "canvas.draw()\n",
    "canvas.get_tk_widget().pack(side=tkinter.TOP, fill=tkinter.BOTH, expand=1)\n",
    "\n",
    "toolbar = NavigationToolbar2Tk(canvas, root)\n",
    "toolbar.update()\n",
    "canvas.get_tk_widget().pack(side=tkinter.TOP, fill=tkinter.BOTH, expand=1)\n",
    "\n",
    "\n",
    "def on_key_press(event):\n",
    "    print(\"you pressed {}\".format(event.key))\n",
    "    key_press_handler(event, canvas, toolbar)\n",
    "\n",
    "\n",
    "canvas.mpl_connect(\"key_press_event\", on_key_press)\n",
    "\n",
    "\n",
    "def _quit():\n",
    "    root.quit()     # stops mainloop\n",
    "    root.destroy()  # this is necessary on Windows to prevent\n",
    "                    # Fatal Python Error: PyEval_RestoreThread: NULL tstate\n",
    "\n",
    "\n",
    "button = tkinter.Button(master=root, text=\"Quit\", command=_quit)\n",
    "button.pack(side=tkinter.BOTTOM)\n",
    "\n",
    "tkinter.mainloop()\n",
    "# If you put root.destroy() here, it will cause an error if the window is\n",
    "# closed with the window manager."
   ]
  },
  {
   "cell_type": "code",
   "execution_count": null,
   "metadata": {},
   "outputs": [],
   "source": []
  }
 ],
 "metadata": {
  "kernelspec": {
   "display_name": "Python 3 (ipykernel)",
   "language": "python",
   "name": "python3"
  },
  "language_info": {
   "codemirror_mode": {
    "name": "ipython",
    "version": 3
   },
   "file_extension": ".py",
   "mimetype": "text/x-python",
   "name": "python",
   "nbconvert_exporter": "python",
   "pygments_lexer": "ipython3",
   "version": "3.9.7"
  }
 },
 "nbformat": 4,
 "nbformat_minor": 4
}
